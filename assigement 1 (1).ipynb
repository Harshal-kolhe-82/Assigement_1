{
 "cells": [
  {
   "cell_type": "code",
   "execution_count": 9,
   "id": "5666e7af-e65a-4f07-b21d-f35a72b77042",
   "metadata": {},
   "outputs": [],
   "source": [
    "def test(*kolhe):\n",
    "    return kolhe"
   ]
  },
  {
   "cell_type": "code",
   "execution_count": 10,
   "id": "3833ca5b-28e9-43d1-a6fe-1a4d39aca549",
   "metadata": {},
   "outputs": [
    {
     "data": {
      "text/plain": [
       "(1, 2, 3, 'harshal', 'kolhe,45.023')"
      ]
     },
     "execution_count": 10,
     "metadata": {},
     "output_type": "execute_result"
    }
   ],
   "source": [
    "test(1,2,3,\"harshal\",\"kolhe,45.023\")"
   ]
  },
  {
   "cell_type": "code",
   "execution_count": 12,
   "id": "f5e8e3dd-9494-46dd-88df-a88b92bc5bbb",
   "metadata": {},
   "outputs": [
    {
     "data": {
      "text/plain": [
       "()"
      ]
     },
     "execution_count": 12,
     "metadata": {},
     "output_type": "execute_result"
    }
   ],
   "source": [
    "test()"
   ]
  },
  {
   "cell_type": "code",
   "execution_count": null,
   "id": "86c336a5-80c3-4309-8b84-44de712abc0a",
   "metadata": {},
   "outputs": [],
   "source": []
  }
 ],
 "metadata": {
  "kernelspec": {
   "display_name": "Python 3 (ipykernel)",
   "language": "python",
   "name": "python3"
  },
  "language_info": {
   "codemirror_mode": {
    "name": "ipython",
    "version": 3
   },
   "file_extension": ".py",
   "mimetype": "text/x-python",
   "name": "python",
   "nbconvert_exporter": "python",
   "pygments_lexer": "ipython3",
   "version": "3.10.8"
  }
 },
 "nbformat": 4,
 "nbformat_minor": 5
}
